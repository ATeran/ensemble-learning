{
 "cells": [
  {
   "cell_type": "code",
   "execution_count": 1,
   "metadata": {
    "collapsed": true
   },
   "outputs": [],
   "source": [
    "# Gradient Boosting\n",
    "import pandas as pd"
   ]
  },
  {
   "cell_type": "code",
   "execution_count": 2,
   "metadata": {},
   "outputs": [],
   "source": [
    "df = pd.read_csv('Gradient_boosting_example_data.csv', index_col='PersonID')\n",
    "features = ['LikesGardening', 'PlaysVideoGames', 'LikesHats']\n",
    "predictand = 'Age'\n",
    "X = df[features]\n",
    "y = df[predictand]"
   ]
  },
  {
   "cell_type": "code",
   "execution_count": 3,
   "metadata": {},
   "outputs": [],
   "source": [
    "# decision tree depth-1 implimentation\n",
    "for feature in X.columns:\n",
    "    feature_means = df.groupby([feature])[predictand].mean()\n",
    "    prediction_colname = 'stump_prediction_{}'.format(feature)\n",
    "    residual_colname = 'stump_residual_{}'.format(feature)\n",
    "    for index, value in enumerate(df[feature]):\n",
    "        index += 1 # zero indexing correction\n",
    "        df.loc[index, prediction_colname] = feature_means[value]\n",
    "        df.loc[index, residual_colname] = df.loc[index, predictand] - df.loc[index, prediction_colname]"
   ]
  },
  {
   "cell_type": "code",
   "execution_count": 4,
   "metadata": {},
   "outputs": [],
   "source": [
    "# df2 = X.join(df.stump_residual_LikesGardening)"
   ]
  },
  {
   "cell_type": "code",
   "execution_count": 5,
   "metadata": {},
   "outputs": [],
   "source": [
    "predictand = 'stump_residual_LikesGardening'\n",
    "for feature in X.columns:\n",
    "    feature_means = df.groupby([feature])[predictand].mean()\n",
    "    prediction_colname = 'level_2_prediction_{}'.format(feature)\n",
    "    residual_colname = 'level_2_residual_{}'.format(feature)\n",
    "    for index, value in enumerate(df[feature]):\n",
    "        index += 1 # zero indexing correction\n",
    "        df.loc[index, prediction_colname] = feature_means[value]\n",
    "        df.loc[index, residual_colname] = df.loc[index, predictand] - df.loc[index, prediction_colname]"
   ]
  },
  {
   "cell_type": "code",
   "execution_count": 7,
   "metadata": {},
   "outputs": [],
   "source": [
    "df['combined_prediction'] = df.stump_prediction_LikesGardening + df.level_2_prediction_PlaysVideoGames\n",
    "df['combined_residuals'] = df.Age - df.combined_prediction"
   ]
  },
  {
   "cell_type": "code",
   "execution_count": 8,
   "metadata": {},
   "outputs": [
    {
     "data": {
      "text/html": [
       "<div>\n",
       "<style>\n",
       "    .dataframe thead tr:only-child th {\n",
       "        text-align: right;\n",
       "    }\n",
       "\n",
       "    .dataframe thead th {\n",
       "        text-align: left;\n",
       "    }\n",
       "\n",
       "    .dataframe tbody tr th {\n",
       "        vertical-align: top;\n",
       "    }\n",
       "</style>\n",
       "<table border=\"1\" class=\"dataframe\">\n",
       "  <thead>\n",
       "    <tr style=\"text-align: right;\">\n",
       "      <th></th>\n",
       "      <th>combined_prediction</th>\n",
       "      <th>combined_residuals</th>\n",
       "    </tr>\n",
       "    <tr>\n",
       "      <th>PersonID</th>\n",
       "      <th></th>\n",
       "      <th></th>\n",
       "    </tr>\n",
       "  </thead>\n",
       "  <tbody>\n",
       "    <tr>\n",
       "      <th>1</th>\n",
       "      <td>15.683333</td>\n",
       "      <td>-2.683333</td>\n",
       "    </tr>\n",
       "    <tr>\n",
       "      <th>2</th>\n",
       "      <td>15.683333</td>\n",
       "      <td>-1.683333</td>\n",
       "    </tr>\n",
       "    <tr>\n",
       "      <th>3</th>\n",
       "      <td>15.683333</td>\n",
       "      <td>-0.683333</td>\n",
       "    </tr>\n",
       "    <tr>\n",
       "      <th>4</th>\n",
       "      <td>53.633333</td>\n",
       "      <td>-28.633333</td>\n",
       "    </tr>\n",
       "    <tr>\n",
       "      <th>5</th>\n",
       "      <td>15.683333</td>\n",
       "      <td>19.316667</td>\n",
       "    </tr>\n",
       "    <tr>\n",
       "      <th>6</th>\n",
       "      <td>64.333333</td>\n",
       "      <td>-15.333333</td>\n",
       "    </tr>\n",
       "    <tr>\n",
       "      <th>7</th>\n",
       "      <td>53.633333</td>\n",
       "      <td>14.366667</td>\n",
       "    </tr>\n",
       "    <tr>\n",
       "      <th>8</th>\n",
       "      <td>64.333333</td>\n",
       "      <td>6.666667</td>\n",
       "    </tr>\n",
       "    <tr>\n",
       "      <th>9</th>\n",
       "      <td>64.333333</td>\n",
       "      <td>8.666667</td>\n",
       "    </tr>\n",
       "  </tbody>\n",
       "</table>\n",
       "</div>"
      ],
      "text/plain": [
       "          combined_prediction  combined_residuals\n",
       "PersonID                                         \n",
       "1                   15.683333           -2.683333\n",
       "2                   15.683333           -1.683333\n",
       "3                   15.683333           -0.683333\n",
       "4                   53.633333          -28.633333\n",
       "5                   15.683333           19.316667\n",
       "6                   64.333333          -15.333333\n",
       "7                   53.633333           14.366667\n",
       "8                   64.333333            6.666667\n",
       "9                   64.333333            8.666667"
      ]
     },
     "execution_count": 8,
     "metadata": {},
     "output_type": "execute_result"
    }
   ],
   "source": [
    "df[['combined_prediction', 'combined_residuals']]"
   ]
  },
  {
   "cell_type": "code",
   "execution_count": 14,
   "metadata": {},
   "outputs": [
    {
     "data": {
      "text/plain": [
       "1993.55"
      ]
     },
     "execution_count": 14,
     "metadata": {},
     "output_type": "execute_result"
    }
   ],
   "source": [
    "def SSE(y_hat, y_true):\n",
    "    return np.sum((y_hat - y_true) ** 2)\n",
    "\n",
    "SSE(df.combined_prediction, df.Age)\n",
    "SSE(df.stump_prediction_LikesGardening, df.Age)"
   ]
  },
  {
   "cell_type": "code",
   "execution_count": null,
   "metadata": {
    "collapsed": true
   },
   "outputs": [],
   "source": []
  }
 ],
 "metadata": {
  "kernelspec": {
   "display_name": "Python [conda env:py36]",
   "language": "python",
   "name": "conda-env-py36-py"
  },
  "language_info": {
   "codemirror_mode": {
    "name": "ipython",
    "version": 3
   },
   "file_extension": ".py",
   "mimetype": "text/x-python",
   "name": "python",
   "nbconvert_exporter": "python",
   "pygments_lexer": "ipython3",
   "version": "3.6.2"
  }
 },
 "nbformat": 4,
 "nbformat_minor": 2
}
