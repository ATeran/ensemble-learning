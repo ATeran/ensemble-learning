{
 "cells": [
  {
   "cell_type": "markdown",
   "metadata": {},
   "source": [
    "# Gradient Boosting From Scratch\n",
    "There are a plethora of powerful machine learning packages now available for Python (most notably `sklearn`),\n",
    "and we will use these in practice. But there's no better way to learn how a complex model _really_ works than to try to impliment it from first principles. Let's give it a go..."
   ]
  },
  {
   "cell_type": "code",
   "execution_count": 1,
   "metadata": {
    "collapsed": true
   },
   "outputs": [],
   "source": [
    "import pandas as pd\n",
    "import numpy as np"
   ]
  },
  {
   "cell_type": "code",
   "execution_count": 2,
   "metadata": {
    "collapsed": true
   },
   "outputs": [],
   "source": [
    "def rmse(y_hat, y_true, normalize=False):\n",
    "    '''RMSE represents the sample standard deviation of the differences between predicted and observed values'''\n",
    "    y_hat = _convert_to_1D_np_array(y_hat)\n",
    "    y_true = _convert_to_1D_np_array(y_true)\n",
    "    normalization = y_true.size if normalize else 1\n",
    "    return np.sqrt(np.sum((y_hat - y_true) ** 2) / normalization)\n",
    "\n",
    "def sse(y_hat, y_true):\n",
    "    return np.sum((y_hat - y_true) ** 2)\n",
    "\n",
    "def mean_absolute_deviation(y_hat, y_true):\n",
    "    '''mean absolute deviation is approximately 0.798 x standard deviation for normally distributed random variables'''\n",
    "    y_hat = _convert_to_1D_np_array(y_hat)\n",
    "    y_true = _convert_to_1D_np_array(y_true)\n",
    "    return np.mean(np.abs(y_hat - y_true))\n",
    "\n",
    "def median_absolute_deviation(y_hat, y_true):\n",
    "    '''median absolute deviation is approximately 0.675 x standard deviation for normally distributed random variables'''\n",
    "    y_hat = _convert_to_1D_np_array(y_hat)\n",
    "    y_true = _convert_to_1D_np_array(y_true)\n",
    "    return np.median(np.abs(y_hat - y_true))\n",
    "\n",
    "def symmetric_mean_absolute_percent_error(y_hat, y_true):\n",
    "    '''SMAPE is bound between 0 and 200%'''\n",
    "    y_hat = _convert_to_1D_np_array(y_hat)\n",
    "    y_true = _convert_to_1D_np_array(y_true)\n",
    "    return np.sum(np.abs(y_hat - y_true) / ((np.abs(y_true) + np.abs(y_hat)) / 2.0)) * (100.0 / y_true.size)\n",
    "\n",
    "def standardize(y):\n",
    "    y = _convert_to_1D_np_array(y)\n",
    "    return (y - np.mean(y)) / np.std(y)\n",
    "\n",
    "def mean_absolute_scaled_error(y_hat, y_true):\n",
    "    '''MASE from Hyndman and Koehler'''\n",
    "    y_hat = _convert_to_1D_np_array(y_hat)\n",
    "    y_true = _convert_to_1D_np_array(y_true)\n",
    "    denom_sum = np.sum(abs(y_true[1:] - y_true[:-1]))\n",
    "    error = abs(y_true - y_hat)\n",
    "    denom = denom_sum / (float(len(y_hat)) - 1)\n",
    "    return np.mean(error / denom)\n",
    "\n",
    "def _convert_to_1D_np_array(y):\n",
    "    if isinstance(y, (int, float, list)):\n",
    "        return np.array(y)\n",
    "    elif isinstance(y, pd.Series):\n",
    "        return np.array(y)\n",
    "    elif isinstance(y, pd.DataFrame):\n",
    "        if y.shape[1] > 1:\n",
    "            raise Exception('y must be 1-dimensional')\n",
    "        else:\n",
    "            return np.array(y.ix[:, 0])\n",
    "    elif isinstance(y, np.ndarray):\n",
    "        if y.ndim > 1:\n",
    "            raise Exception('y must be 1-dimensional')\n",
    "        else:\n",
    "            return y\n",
    "    else:\n",
    "        raise Exception('y must be of type int, float, long or a 1-dimensional array-like object')\n"
   ]
  },
  {
   "cell_type": "code",
   "execution_count": 3,
   "metadata": {
    "collapsed": true
   },
   "outputs": [],
   "source": [
    "df = pd.read_csv('Gradient_boosting_example_data.csv', index_col='PersonID')\n",
    "features = ['LikesGardening', 'PlaysVideoGames', 'LikesHats']\n",
    "predictand = 'Age'\n",
    "X = df[features]\n",
    "y = df[predictand]"
   ]
  },
  {
   "cell_type": "code",
   "execution_count": 4,
   "metadata": {
    "collapsed": true
   },
   "outputs": [],
   "source": [
    "# decision tree depth-1 (stump) implimentation from first principles\n",
    "for feature in X.columns:\n",
    "    feature_means = df.groupby([feature])[predictand].mean()\n",
    "    prediction_colname = 'stump_prediction_{}'.format(feature)\n",
    "    residual_colname = 'stump_residual_{}'.format(feature)\n",
    "    for index, value in enumerate(df[feature]):\n",
    "        index += 1 # zero indexing correction\n",
    "        df.loc[index, prediction_colname] = feature_means[value]\n",
    "        df.loc[index, residual_colname] = df.loc[index, predictand] - df.loc[index, prediction_colname]"
   ]
  },
  {
   "cell_type": "code",
   "execution_count": 5,
   "metadata": {
    "collapsed": true
   },
   "outputs": [],
   "source": [
    "# decision tree on the residuals of the first\n",
    "predictand = 'stump_residual_LikesGardening'\n",
    "for feature in X.columns:\n",
    "    feature_means = df.groupby([feature])[predictand].mean()\n",
    "    prediction_colname = 'level_2_prediction_{}'.format(feature)\n",
    "    residual_colname = 'level_2_residual_{}'.format(feature)\n",
    "    for index, value in enumerate(df[feature]):\n",
    "        index += 1 # zero indexing correction\n",
    "        df.loc[index, prediction_colname] = feature_means[value]\n",
    "        df.loc[index, residual_colname] = df.loc[index, predictand] - df.loc[index, prediction_colname]"
   ]
  },
  {
   "cell_type": "code",
   "execution_count": 6,
   "metadata": {},
   "outputs": [
    {
     "data": {
      "text/html": [
       "<div>\n",
       "<style>\n",
       "    .dataframe thead tr:only-child th {\n",
       "        text-align: right;\n",
       "    }\n",
       "\n",
       "    .dataframe thead th {\n",
       "        text-align: left;\n",
       "    }\n",
       "\n",
       "    .dataframe tbody tr th {\n",
       "        vertical-align: top;\n",
       "    }\n",
       "</style>\n",
       "<table border=\"1\" class=\"dataframe\">\n",
       "  <thead>\n",
       "    <tr style=\"text-align: right;\">\n",
       "      <th></th>\n",
       "      <th>combined_prediction</th>\n",
       "      <th>combined_residuals</th>\n",
       "    </tr>\n",
       "    <tr>\n",
       "      <th>PersonID</th>\n",
       "      <th></th>\n",
       "      <th></th>\n",
       "    </tr>\n",
       "  </thead>\n",
       "  <tbody>\n",
       "    <tr>\n",
       "      <th>1</th>\n",
       "      <td>15.683333</td>\n",
       "      <td>-2.683333</td>\n",
       "    </tr>\n",
       "    <tr>\n",
       "      <th>2</th>\n",
       "      <td>15.683333</td>\n",
       "      <td>-1.683333</td>\n",
       "    </tr>\n",
       "    <tr>\n",
       "      <th>3</th>\n",
       "      <td>15.683333</td>\n",
       "      <td>-0.683333</td>\n",
       "    </tr>\n",
       "    <tr>\n",
       "      <th>4</th>\n",
       "      <td>53.633333</td>\n",
       "      <td>-28.633333</td>\n",
       "    </tr>\n",
       "    <tr>\n",
       "      <th>5</th>\n",
       "      <td>15.683333</td>\n",
       "      <td>19.316667</td>\n",
       "    </tr>\n",
       "    <tr>\n",
       "      <th>6</th>\n",
       "      <td>64.333333</td>\n",
       "      <td>-15.333333</td>\n",
       "    </tr>\n",
       "    <tr>\n",
       "      <th>7</th>\n",
       "      <td>53.633333</td>\n",
       "      <td>14.366667</td>\n",
       "    </tr>\n",
       "    <tr>\n",
       "      <th>8</th>\n",
       "      <td>64.333333</td>\n",
       "      <td>6.666667</td>\n",
       "    </tr>\n",
       "    <tr>\n",
       "      <th>9</th>\n",
       "      <td>64.333333</td>\n",
       "      <td>8.666667</td>\n",
       "    </tr>\n",
       "  </tbody>\n",
       "</table>\n",
       "</div>"
      ],
      "text/plain": [
       "          combined_prediction  combined_residuals\n",
       "PersonID                                         \n",
       "1                   15.683333           -2.683333\n",
       "2                   15.683333           -1.683333\n",
       "3                   15.683333           -0.683333\n",
       "4                   53.633333          -28.633333\n",
       "5                   15.683333           19.316667\n",
       "6                   64.333333          -15.333333\n",
       "7                   53.633333           14.366667\n",
       "8                   64.333333            6.666667\n",
       "9                   64.333333            8.666667"
      ]
     },
     "execution_count": 6,
     "metadata": {},
     "output_type": "execute_result"
    }
   ],
   "source": [
    "df['combined_prediction'] = df.stump_prediction_LikesGardening + df.level_2_prediction_PlaysVideoGames\n",
    "df['combined_residuals'] = df.Age - df.combined_prediction\n",
    "# df[['combined_prediction', 'combined_residuals']]"
   ]
  },
  {
   "cell_type": "code",
   "execution_count": 7,
   "metadata": {},
   "outputs": [
    {
     "data": {
      "text/plain": [
       "1993.55"
      ]
     },
     "execution_count": 7,
     "metadata": {},
     "output_type": "execute_result"
    }
   ],
   "source": [
    "sse(df.combined_prediction, df.Age)\n",
    "sse(df.stump_prediction_LikesGardening, df.Age)"
   ]
  },
  {
   "cell_type": "code",
   "execution_count": 11,
   "metadata": {},
   "outputs": [
    {
     "name": "stdout",
     "output_type": "stream",
     "text": [
      "-43 -19\n",
      "-1.0 -1.0\n"
     ]
    }
   ],
   "source": [
    "ytrue = [13, 25]\n",
    "yhat1 = [35, 35]\n",
    "improvement = -1\n",
    "yhat2 = [item + improvement for item in yhat1]\n",
    "\n",
    "def compute_gradient(prediction1, prediction2, target, loss_function):\n",
    "    loss_function_gradient = loss_function(prediction2, target) - loss_function(prediction1, target)\n",
    "    return loss_function_gradient\n",
    "\n",
    "gradient_descent_1 = compute_gradient(yhat1[0], yhat2[0], ytrue[0], sse)\n",
    "gradient_descent_2 = compute_gradient(yhat1[1], yhat2[1], ytrue[1], sse)\n",
    "print(gradient_descent_1, gradient_descent_2)\n",
    "\n",
    "gradient_descent_1 = compute_gradient(yhat1[0], yhat2[0], ytrue[0], median_absolute_deviation)\n",
    "gradient_descent_2 = compute_gradient(yhat1[1], yhat2[1], ytrue[1], median_absolute_deviation)\n",
    "print(gradient_descent_1, gradient_descent_2)"
   ]
  },
  {
   "cell_type": "code",
   "execution_count": null,
   "metadata": {
    "collapsed": true
   },
   "outputs": [],
   "source": []
  }
 ],
 "metadata": {
  "kernelspec": {
   "display_name": "Python [conda env:py36]",
   "language": "python",
   "name": "conda-env-py36-py"
  },
  "language_info": {
   "codemirror_mode": {
    "name": "ipython",
    "version": 3
   },
   "file_extension": ".py",
   "mimetype": "text/x-python",
   "name": "python",
   "nbconvert_exporter": "python",
   "pygments_lexer": "ipython3",
   "version": "3.6.2"
  }
 },
 "nbformat": 4,
 "nbformat_minor": 2
}
