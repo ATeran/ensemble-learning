{
 "cells": [
  {
   "cell_type": "markdown",
   "metadata": {},
   "source": [
    "# General Assembly Data Science Immersive, by Elliot Cohen\n",
    "## Part 1\n",
    "### Python Coding and Data Set"
   ]
  },
  {
   "cell_type": "code",
   "execution_count": 16,
   "metadata": {},
   "outputs": [],
   "source": [
    "%matplotlib inline\n",
    "import matplotlib.pyplot as plt\n",
    "import pandas as pd\n",
    "import numpy as np\n",
    "\n",
    "from sklearn import preprocessing\n",
    "from sklearn import linear_model\n",
    "from sklearn.cluster import KMeans\n",
    "from scipy.stats import ttest_ind\n",
    "from xgboost import XGBClassifier"
   ]
  },
  {
   "cell_type": "code",
   "execution_count": 17,
   "metadata": {
    "collapsed": true
   },
   "outputs": [],
   "source": [
    "# Q: Load in the data file and header file provided\n",
    "header_url = 'https://gist.githubusercontent.com/jeff-boykin/b5c536467c30d66ab97cd1f5c9a3497d/raw/5233c792af49c9b78f20c35d5cd729e1307a7df7/field_names.txt'\n",
    "header_list = pd.read_csv(header_url, header=None, squeeze=True).tolist();\n",
    "\n",
    "data_url = 'https://gist.githubusercontent.com/jeff-boykin/b5c536467c30d66ab97cd1f5c9a3497d/raw/5233c792af49c9b78f20c35d5cd729e1307a7df7/breast-cancer.csv'\n",
    "data = pd.read_csv(data_url, header=None, names=header_list, index_col='ID')"
   ]
  },
  {
   "cell_type": "code",
   "execution_count": 18,
   "metadata": {},
   "outputs": [
    {
     "data": {
      "text/html": [
       "<div>\n",
       "<style>\n",
       "    .dataframe thead tr:only-child th {\n",
       "        text-align: right;\n",
       "    }\n",
       "\n",
       "    .dataframe thead th {\n",
       "        text-align: left;\n",
       "    }\n",
       "\n",
       "    .dataframe tbody tr th {\n",
       "        vertical-align: top;\n",
       "    }\n",
       "</style>\n",
       "<table border=\"1\" class=\"dataframe\">\n",
       "  <thead>\n",
       "    <tr style=\"text-align: right;\">\n",
       "      <th></th>\n",
       "      <th>diagnosis</th>\n",
       "      <th>radius_mean</th>\n",
       "      <th>radius_sd_error</th>\n",
       "      <th>radius_worst</th>\n",
       "      <th>texture_mean</th>\n",
       "      <th>texture_sd_error</th>\n",
       "      <th>texture_worst</th>\n",
       "      <th>perimeter_mean</th>\n",
       "      <th>perimeter_sd_error</th>\n",
       "      <th>perimeter_worst</th>\n",
       "      <th>...</th>\n",
       "      <th>concavity_worst</th>\n",
       "      <th>concave_points_mean</th>\n",
       "      <th>concave_points_sd_error</th>\n",
       "      <th>concave_points_worst</th>\n",
       "      <th>symmetry_mean</th>\n",
       "      <th>symmetry_sd_error</th>\n",
       "      <th>symmetry_worst</th>\n",
       "      <th>fractal_dimension_mean</th>\n",
       "      <th>fractal_dimension_sd_error</th>\n",
       "      <th>fractal_dimension_worst</th>\n",
       "    </tr>\n",
       "  </thead>\n",
       "  <tbody>\n",
       "    <tr>\n",
       "      <th>count</th>\n",
       "      <td>569</td>\n",
       "      <td>569.00</td>\n",
       "      <td>569.00</td>\n",
       "      <td>569.0</td>\n",
       "      <td>569.0</td>\n",
       "      <td>569.0000</td>\n",
       "      <td>569.0000</td>\n",
       "      <td>569.0</td>\n",
       "      <td>569.0</td>\n",
       "      <td>569.0000</td>\n",
       "      <td>...</td>\n",
       "      <td>569.00</td>\n",
       "      <td>569.00</td>\n",
       "      <td>569.0</td>\n",
       "      <td>569.0</td>\n",
       "      <td>569.0000</td>\n",
       "      <td>569.0000</td>\n",
       "      <td>569.0</td>\n",
       "      <td>569.0</td>\n",
       "      <td>569.0000</td>\n",
       "      <td>569.00000</td>\n",
       "    </tr>\n",
       "    <tr>\n",
       "      <th>unique</th>\n",
       "      <td>2</td>\n",
       "      <td>456.00</td>\n",
       "      <td>479.00</td>\n",
       "      <td>522.0</td>\n",
       "      <td>539.0</td>\n",
       "      <td>474.0000</td>\n",
       "      <td>537.0000</td>\n",
       "      <td>537.0</td>\n",
       "      <td>542.0</td>\n",
       "      <td>432.0000</td>\n",
       "      <td>...</td>\n",
       "      <td>457.00</td>\n",
       "      <td>511.00</td>\n",
       "      <td>514.0</td>\n",
       "      <td>544.0</td>\n",
       "      <td>411.0000</td>\n",
       "      <td>529.0000</td>\n",
       "      <td>539.0</td>\n",
       "      <td>492.0</td>\n",
       "      <td>500.0000</td>\n",
       "      <td>535.00000</td>\n",
       "    </tr>\n",
       "    <tr>\n",
       "      <th>top</th>\n",
       "      <td>B</td>\n",
       "      <td>12.34</td>\n",
       "      <td>18.22</td>\n",
       "      <td>134.7</td>\n",
       "      <td>512.2</td>\n",
       "      <td>0.1007</td>\n",
       "      <td>0.1147</td>\n",
       "      <td>0.0</td>\n",
       "      <td>0.0</td>\n",
       "      <td>0.1714</td>\n",
       "      <td>...</td>\n",
       "      <td>12.36</td>\n",
       "      <td>27.26</td>\n",
       "      <td>101.7</td>\n",
       "      <td>826.4</td>\n",
       "      <td>0.1216</td>\n",
       "      <td>0.1486</td>\n",
       "      <td>0.0</td>\n",
       "      <td>0.0</td>\n",
       "      <td>0.2383</td>\n",
       "      <td>0.07427</td>\n",
       "    </tr>\n",
       "    <tr>\n",
       "      <th>freq</th>\n",
       "      <td>357</td>\n",
       "      <td>4.00</td>\n",
       "      <td>3.00</td>\n",
       "      <td>3.0</td>\n",
       "      <td>3.0</td>\n",
       "      <td>5.0000</td>\n",
       "      <td>3.0000</td>\n",
       "      <td>13.0</td>\n",
       "      <td>13.0</td>\n",
       "      <td>4.0000</td>\n",
       "      <td>...</td>\n",
       "      <td>5.00</td>\n",
       "      <td>3.00</td>\n",
       "      <td>3.0</td>\n",
       "      <td>2.0</td>\n",
       "      <td>4.0000</td>\n",
       "      <td>3.0000</td>\n",
       "      <td>13.0</td>\n",
       "      <td>13.0</td>\n",
       "      <td>3.0000</td>\n",
       "      <td>3.00000</td>\n",
       "    </tr>\n",
       "  </tbody>\n",
       "</table>\n",
       "<p>4 rows × 31 columns</p>\n",
       "</div>"
      ],
      "text/plain": [
       "       diagnosis  radius_mean  radius_sd_error  radius_worst  texture_mean  \\\n",
       "count        569       569.00           569.00         569.0         569.0   \n",
       "unique         2       456.00           479.00         522.0         539.0   \n",
       "top            B        12.34            18.22         134.7         512.2   \n",
       "freq         357         4.00             3.00           3.0           3.0   \n",
       "\n",
       "        texture_sd_error  texture_worst  perimeter_mean  perimeter_sd_error  \\\n",
       "count           569.0000       569.0000           569.0               569.0   \n",
       "unique          474.0000       537.0000           537.0               542.0   \n",
       "top               0.1007         0.1147             0.0                 0.0   \n",
       "freq              5.0000         3.0000            13.0                13.0   \n",
       "\n",
       "        perimeter_worst           ...             concavity_worst  \\\n",
       "count          569.0000           ...                      569.00   \n",
       "unique         432.0000           ...                      457.00   \n",
       "top              0.1714           ...                       12.36   \n",
       "freq             4.0000           ...                        5.00   \n",
       "\n",
       "        concave_points_mean  concave_points_sd_error  concave_points_worst  \\\n",
       "count                569.00                    569.0                 569.0   \n",
       "unique               511.00                    514.0                 544.0   \n",
       "top                   27.26                    101.7                 826.4   \n",
       "freq                   3.00                      3.0                   2.0   \n",
       "\n",
       "        symmetry_mean  symmetry_sd_error  symmetry_worst  \\\n",
       "count        569.0000           569.0000           569.0   \n",
       "unique       411.0000           529.0000           539.0   \n",
       "top            0.1216             0.1486             0.0   \n",
       "freq           4.0000             3.0000            13.0   \n",
       "\n",
       "        fractal_dimension_mean  fractal_dimension_sd_error  \\\n",
       "count                    569.0                    569.0000   \n",
       "unique                   492.0                    500.0000   \n",
       "top                        0.0                      0.2383   \n",
       "freq                      13.0                      3.0000   \n",
       "\n",
       "        fractal_dimension_worst  \n",
       "count                 569.00000  \n",
       "unique                535.00000  \n",
       "top                     0.07427  \n",
       "freq                    3.00000  \n",
       "\n",
       "[4 rows x 31 columns]"
      ]
     },
     "execution_count": 18,
     "metadata": {},
     "output_type": "execute_result"
    }
   ],
   "source": [
    "# Q: Comment on any steps you might take to evaluate or transform the dataset.\n",
    "# A: Converting the dataframe to pandas built-in type Categorical can be helpful for summary statistics.\n",
    "#    It is also helpful when working with large datasets with repeated values, \n",
    "#    although that is not required here due to the relatively small sample size of our data.\n",
    "data.apply(pd.Categorical).describe()"
   ]
  },
  {
   "cell_type": "code",
   "execution_count": 19,
   "metadata": {},
   "outputs": [
    {
     "data": {
      "text/html": [
       "<div>\n",
       "<style>\n",
       "    .dataframe thead tr:only-child th {\n",
       "        text-align: right;\n",
       "    }\n",
       "\n",
       "    .dataframe thead th {\n",
       "        text-align: left;\n",
       "    }\n",
       "\n",
       "    .dataframe tbody tr th {\n",
       "        vertical-align: top;\n",
       "    }\n",
       "</style>\n",
       "<table border=\"1\" class=\"dataframe\">\n",
       "  <thead>\n",
       "    <tr>\n",
       "      <th></th>\n",
       "      <th colspan=\"2\" halign=\"left\">smoothness_mean</th>\n",
       "      <th colspan=\"2\" halign=\"left\">smoothness_sd_error</th>\n",
       "      <th colspan=\"2\" halign=\"left\">smoothness_worst</th>\n",
       "      <th colspan=\"2\" halign=\"left\">compactness_mean</th>\n",
       "      <th colspan=\"2\" halign=\"left\">compactness_sd_error</th>\n",
       "      <th colspan=\"2\" halign=\"left\">compactness_worst</th>\n",
       "    </tr>\n",
       "    <tr>\n",
       "      <th></th>\n",
       "      <th>mean</th>\n",
       "      <th>median</th>\n",
       "      <th>mean</th>\n",
       "      <th>median</th>\n",
       "      <th>mean</th>\n",
       "      <th>median</th>\n",
       "      <th>mean</th>\n",
       "      <th>median</th>\n",
       "      <th>mean</th>\n",
       "      <th>median</th>\n",
       "      <th>mean</th>\n",
       "      <th>median</th>\n",
       "    </tr>\n",
       "    <tr>\n",
       "      <th>diagnosis</th>\n",
       "      <th></th>\n",
       "      <th></th>\n",
       "      <th></th>\n",
       "      <th></th>\n",
       "      <th></th>\n",
       "      <th></th>\n",
       "      <th></th>\n",
       "      <th></th>\n",
       "      <th></th>\n",
       "      <th></th>\n",
       "      <th></th>\n",
       "      <th></th>\n",
       "    </tr>\n",
       "  </thead>\n",
       "  <tbody>\n",
       "    <tr>\n",
       "      <th>B</th>\n",
       "      <td>2.000321</td>\n",
       "      <td>1.8510</td>\n",
       "      <td>21.135148</td>\n",
       "      <td>19.630</td>\n",
       "      <td>0.007196</td>\n",
       "      <td>0.006530</td>\n",
       "      <td>0.021438</td>\n",
       "      <td>0.01631</td>\n",
       "      <td>0.025997</td>\n",
       "      <td>0.018400</td>\n",
       "      <td>0.009858</td>\n",
       "      <td>0.009061</td>\n",
       "    </tr>\n",
       "    <tr>\n",
       "      <th>M</th>\n",
       "      <td>4.323929</td>\n",
       "      <td>3.6795</td>\n",
       "      <td>72.672406</td>\n",
       "      <td>58.455</td>\n",
       "      <td>0.006780</td>\n",
       "      <td>0.006209</td>\n",
       "      <td>0.032281</td>\n",
       "      <td>0.02859</td>\n",
       "      <td>0.041824</td>\n",
       "      <td>0.037125</td>\n",
       "      <td>0.015060</td>\n",
       "      <td>0.014205</td>\n",
       "    </tr>\n",
       "  </tbody>\n",
       "</table>\n",
       "</div>"
      ],
      "text/plain": [
       "          smoothness_mean         smoothness_sd_error          \\\n",
       "                     mean  median                mean  median   \n",
       "diagnosis                                                       \n",
       "B                2.000321  1.8510           21.135148  19.630   \n",
       "M                4.323929  3.6795           72.672406  58.455   \n",
       "\n",
       "          smoothness_worst           compactness_mean           \\\n",
       "                      mean    median             mean   median   \n",
       "diagnosis                                                        \n",
       "B                 0.007196  0.006530         0.021438  0.01631   \n",
       "M                 0.006780  0.006209         0.032281  0.02859   \n",
       "\n",
       "          compactness_sd_error           compactness_worst            \n",
       "                          mean    median              mean    median  \n",
       "diagnosis                                                             \n",
       "B                     0.025997  0.018400          0.009858  0.009061  \n",
       "M                     0.041824  0.037125          0.015060  0.014205  "
      ]
     },
     "execution_count": 19,
     "metadata": {},
     "output_type": "execute_result"
    }
   ],
   "source": [
    "# Q: Compute the mean and median smoothness and compactness for benign and malignant tumors\n",
    "data.filter(regex='smoothness|compactness|diagnosis').groupby('diagnosis').agg(['mean', 'median'])"
   ]
  },
  {
   "cell_type": "code",
   "execution_count": 20,
   "metadata": {},
   "outputs": [
    {
     "name": "stdout",
     "output_type": "stream",
     "text": [
      "smoothness: t statitic = 15.934158 p value = 0.000000000\n",
      "compactness: t statitic = 7.297077 p value = 0.000000000\n"
     ]
    }
   ],
   "source": [
    "# Q: Do the groups differ? Explain how you would identify this.\n",
    "# A: Perform a T-test on the means of two independent samples. \n",
    "#    This is a univariate test, and can be done for each predictor, as needed.\n",
    "grouped = data.groupby('diagnosis')\n",
    "malignant = data.loc[grouped.groups['M']]\n",
    "benign = data.loc[grouped.groups['B']]\n",
    "\n",
    "t, p = ttest_ind(malignant['smoothness_mean'], benign['smoothness_mean']) \n",
    "print('{}: t statitic = {:.6f} p value = {:.9f}'.format('smoothness', t, p))\n",
    "\n",
    "t, p = ttest_ind(malignant['compactness_mean'], benign['compactness_mean'])\n",
    "print('{}: t statitic = {:.6f} p value = {:.9f}'.format('compactness', t, p))"
   ]
  },
  {
   "cell_type": "markdown",
   "metadata": {},
   "source": [
    "Grouping the cancer data by diagnosis, and summarizing by smoothness and compactness features, we see a discernable difference in measures of central tendancy (e.g. mean and median). To determine if this difference is statistically significant, we conduct a two-sided T-test with a null hypothesis that the two independent samples are identically distributed.\n",
    "\n",
    "Results indicate that we can __reject the null hypothesis__ that mean cell nuclei smoothness for benign and malignant tupors are the same, based on a p_value approaching zero. Similarly for compactness, we can reject the null hypthoses that benign and malignant cell nuclei compactness are the same."
   ]
  },
  {
   "cell_type": "code",
   "execution_count": 21,
   "metadata": {},
   "outputs": [
    {
     "name": "stdout",
     "output_type": "stream",
     "text": [
      "original smoothness for benign cells: 2.000321\n",
      "resampled smoothness for benign cells: 2.000151\n"
     ]
    }
   ],
   "source": [
    "# Q: Write a function to generate bootstrap samples of the data.\n",
    "def create_bootstrap_samples_from_dataframe(dataframe, n_samples=1000):\n",
    "    assert isinstance(dataframe, pd.core.frame.DataFrame), 'input data must be a pandas dataframe'\n",
    "    return dataframe.sample(n=n_samples, replace=True)\n",
    "\n",
    "# A: Example usage\n",
    "bootstrap_data = create_bootstrap_samples_from_dataframe(data, n_samples=10000)\n",
    "print('original smoothness for benign cells: {:.6f}'.format(data[data['diagnosis']=='B']['smoothness_mean'].mean()))\n",
    "print('resampled smoothness for benign cells: {:.6f}'.format(bootstrap_data[bootstrap_data['diagnosis']=='B']['smoothness_mean'].mean()))"
   ]
  },
  {
   "cell_type": "markdown",
   "metadata": {},
   "source": [
    "### Exploratory Analysis\n",
    "Q: Identify 2-3 variables that are predictive of a malignant tumor. Display the relationship visually and write 1-2 sentences explaining the relationship.\n",
    "\n",
    "A: To identify the most important predictive features, I will use one of sklearn's built-in feature selection methods. They are powerful and fast -- ideal for exploratory analysis. We can always come back to tune hyperparameters and thresholds later, as needed."
   ]
  },
  {
   "cell_type": "code",
   "execution_count": 22,
   "metadata": {},
   "outputs": [],
   "source": [
    "# first divide data into predictors (X) and predictand (y), and subdivide into test/train sets.\n",
    "from sklearn.model_selection import train_test_split\n",
    "from sklearn.metrics import accuracy_score\n",
    "\n",
    "Y = data['diagnosis'].replace({'M': True, 'B': False}) # convert to binary outcome\n",
    "X = data.iloc[:, data.columns != 'diagnosis']\n",
    "\n",
    "scaler = preprocessing.StandardScaler().fit(X)\n",
    "X_scaled = scaler.transform(X)\n",
    "\n",
    "x_train, x_test, y_train, y_test = train_test_split(X_scaled, Y, test_size=0.4)"
   ]
  },
  {
   "cell_type": "code",
   "execution_count": 23,
   "metadata": {},
   "outputs": [],
   "source": [
    "# verify that scaled predictors are mean zero and standard deviation 1\n",
    "tolerance = 1*10**-5\n",
    "assert all(abs(X_scaled.mean(axis=0) - 0) <= tolerance) # verify that scaled mean ~=0\n",
    "assert all(abs(X_scaled.std(axis=0) - 1) <= tolerance) # verify that scaled std ~=1"
   ]
  },
  {
   "cell_type": "code",
   "execution_count": 24,
   "metadata": {},
   "outputs": [
    {
     "name": "stdout",
     "output_type": "stream",
     "text": [
      "top 3 predictors: ['concavity_worst' 'concave_points_sd_error' 'fractal_dimension_mean']\n"
     ]
    }
   ],
   "source": [
    "# select top k predictors\n",
    "from sklearn.feature_selection import SelectKBest, f_classif\n",
    "\n",
    "k = 3\n",
    "selector = SelectKBest(f_classif, k)\n",
    "selector.fit(x_train, y_train)\n",
    "\n",
    "idxs_selected = selector.get_support(indices=True) # get indices of columns to keep\n",
    "best_predictors = X.columns[idxs_selected]\n",
    "print('top {} predictors: {}'.format(k, best_predictors.values))"
   ]
  },
  {
   "cell_type": "code",
   "execution_count": 25,
   "metadata": {},
   "outputs": [
    {
     "data": {
      "image/png": "[encoded data removed]",
      "text/plain": [
       "<matplotlib.figure.Figure at 0x116b8fc88>"
      ]
     },
     "metadata": {},
     "output_type": "display_data"
    },
    {
     "data": {
      "image/png": "[encoded data removed]",
      "text/plain": [
       "<matplotlib.figure.Figure at 0x117881a90>"
      ]
     },
     "metadata": {},
     "output_type": "display_data"
    },
    {
     "data": {
      "image/png": "[encoded data removed]",
      "text/plain": [
       "<matplotlib.figure.Figure at 0x11798ac18>"
      ]
     },
     "metadata": {},
     "output_type": "display_data"
    }
   ],
   "source": [
    "# visual inpsection\n",
    "for predictor in best_predictors:\n",
    "    for group in data.groupby('diagnosis'):\n",
    "        group[1][predictor].hist(label=group[0])\n",
    "        plt.title(predictor)\n",
    "        plt.legend()\n",
    "    plt.show()"
   ]
  },
  {
   "cell_type": "markdown",
   "metadata": {},
   "source": [
    "Visual inpsection confirms the results of our feature selection -- we can see that the distribution of values are indeed different between benign and malignant cells. This differentiation is what allows them to be useful predictors.\n",
    "\n",
    "For all three predictors -- concavity worst, concave points standard error and fractal dimenension mean -- malignant cells have a higher mean, median and modal value compared to benign cells. The variance also appears to be greater for malignant compared to benign cells."
   ]
  },
  {
   "cell_type": "markdown",
   "metadata": {},
   "source": [
    "### Modeling\n",
    "Build a model to predict the malignant tumors.\n",
    "Use at least two classification techniques; compare and contrast the advantages and disadvantages of each.\n",
    "Identify how you would control for overfitting in each classification technique.\n",
    "Evaluate the performance of each model.\n",
    "In each model, identify the most important predictive variables and explain how you identified them."
   ]
  },
  {
   "cell_type": "code",
   "execution_count": 26,
   "metadata": {},
   "outputs": [],
   "source": [
    "def compute_classification_error(y_true, y_hat):\n",
    "    accuracy = accuracy_score(y_true, y_hat)\n",
    "\n",
    "    scorecard = pd.DataFrame({'y_hat': y_hat, 'y_true': y_true})\n",
    "    false_positives = scorecard[(scorecard['y_true'] == 0) & (scorecard['y_hat'] == 1)]\n",
    "    false_negatives = scorecard[(scorecard['y_true'] == 1) & (scorecard['y_hat'] == 0)]\n",
    "    type_1_error = len(false_positives)/len(scorecard)\n",
    "    type_2_error = len(false_negatives)/len(scorecard)\n",
    "\n",
    "    print(\"Accuracy: %.2f%%\" % (accuracy * 100.0))\n",
    "    print('Type I error rate: {:.5f}'.format(type_1_error))\n",
    "    print('Type II error rate: {:.5f}'.format(type_2_error))"
   ]
  },
  {
   "cell_type": "code",
   "execution_count": 27,
   "metadata": {},
   "outputs": [
    {
     "name": "stdout",
     "output_type": "stream",
     "text": [
      "Accuracy: 96.05%\n",
      "Type I error rate: 0.03509\n",
      "Type II error rate: 0.00439\n"
     ]
    }
   ],
   "source": [
    "# Technique 1: Logistic regression\n",
    "classifier = linear_model.LogisticRegression(penalty='l1', class_weight='balanced')\n",
    "probability_by_class = classifier.fit(x_train, y_train).predict_proba(x_test)\n",
    "y_hat = probability_by_class[:,0] < 0.68  # if probability of being in class M is greater than 0.68, classify as M.\n",
    "\n",
    "compute_classification_error(y_true=y_test, y_hat=y_hat)"
   ]
  },
  {
   "cell_type": "code",
   "execution_count": 28,
   "metadata": {},
   "outputs": [
    {
     "name": "stdout",
     "output_type": "stream",
     "text": [
      "Accuracy: 97.81%\n",
      "Type I error rate: 0.01754\n",
      "Type II error rate: 0.00439\n"
     ]
    }
   ],
   "source": [
    "# Technique 2: Gradient Boosted Trees\n",
    "model = XGBClassifier()\n",
    "model.fit(x_train, y_train)\n",
    "y_hat = model.predict(x_test)\n",
    "\n",
    "compute_classification_error(y_true=y_test, y_hat=y_hat)"
   ]
  },
  {
   "cell_type": "code",
   "execution_count": 29,
   "metadata": {},
   "outputs": [
    {
     "name": "stdout",
     "output_type": "stream",
     "text": [
      "Accuracy: 91.67%\n",
      "Type I error rate: 0.02193\n",
      "Type II error rate: 0.06140\n"
     ]
    }
   ],
   "source": [
    "# Technique 3: clustering\n",
    "kmeans = KMeans(n_clusters=2, random_state=0).fit(x_train)\n",
    "y_hat = kmeans.predict(x_test)\n",
    "\n",
    "compute_classification_error(y_true=y_test, y_hat=y_hat)"
   ]
  },
  {
   "cell_type": "code",
   "execution_count": 30,
   "metadata": {},
   "outputs": [
    {
     "data": {
      "text/html": [
       "<div>\n",
       "<style>\n",
       "    .dataframe thead tr:only-child th {\n",
       "        text-align: right;\n",
       "    }\n",
       "\n",
       "    .dataframe thead th {\n",
       "        text-align: left;\n",
       "    }\n",
       "\n",
       "    .dataframe tbody tr th {\n",
       "        vertical-align: top;\n",
       "    }\n",
       "</style>\n",
       "<table border=\"1\" class=\"dataframe\">\n",
       "  <thead>\n",
       "    <tr style=\"text-align: right;\">\n",
       "      <th></th>\n",
       "      <th>Feature</th>\n",
       "      <th>Feature_importance</th>\n",
       "    </tr>\n",
       "  </thead>\n",
       "  <tbody>\n",
       "    <tr>\n",
       "      <th>21</th>\n",
       "      <td>concave_points_mean</td>\n",
       "      <td>0.138743</td>\n",
       "    </tr>\n",
       "    <tr>\n",
       "      <th>23</th>\n",
       "      <td>concave_points_worst</td>\n",
       "      <td>0.102094</td>\n",
       "    </tr>\n",
       "    <tr>\n",
       "      <th>13</th>\n",
       "      <td>smoothness_sd_error</td>\n",
       "      <td>0.083770</td>\n",
       "    </tr>\n",
       "    <tr>\n",
       "      <th>1</th>\n",
       "      <td>radius_sd_error</td>\n",
       "      <td>0.073298</td>\n",
       "    </tr>\n",
       "    <tr>\n",
       "      <th>24</th>\n",
       "      <td>symmetry_mean</td>\n",
       "      <td>0.070681</td>\n",
       "    </tr>\n",
       "  </tbody>\n",
       "</table>\n",
       "</div>"
      ],
      "text/plain": [
       "                 Feature  Feature_importance\n",
       "21   concave_points_mean            0.138743\n",
       "23  concave_points_worst            0.102094\n",
       "13   smoothness_sd_error            0.083770\n",
       "1        radius_sd_error            0.073298\n",
       "24         symmetry_mean            0.070681"
      ]
     },
     "execution_count": 30,
     "metadata": {},
     "output_type": "execute_result"
    }
   ],
   "source": [
    "# feature importance (for XGboost only)\n",
    "feature_importance = pd.DataFrame({'Feature': X.columns, 'Feature_importance': model.feature_importances_})\n",
    "feature_importance.sort_values('Feature_importance', ascending=False).head()"
   ]
  },
  {
   "cell_type": "markdown",
   "metadata": {},
   "source": [
    "### Explanation\n",
    "\n",
    "To Technical Audiences\n",
    "Explain the limitations of your analysis and identify possible further steps you could take.\n",
    "To Non-Technical Audiences\n",
    "Write a short summary of your analysis, explaining how your model works and how it performs.\n",
    "Briefly explain the factors that contributed to malignant vs benign tumor identification."
   ]
  },
  {
   "cell_type": "markdown",
   "metadata": {},
   "source": [
    "**General Audience**: I appled three classification techniques: logistic regression, gradient-boosted trees, and k-means clustering. All three are well-suited to classification problems, but are very different under the hood. Logistic regression is simply a regression model where the dependent variable is categorical; gradient-boosted trees is an ensemble decision tree with a well-defined objective function that includes both a loss function (e.g. MSE) and a regularization term to encourage parsimony and discourage over-fitting; k-means clustering iteratively assigns unlabeled data to one of K groups based on feature similarity.\n",
    "\n",
    "**Technical Audience**: All three techniques may be improved with a-priori information. In the case of logistic regression, it is useful to pre-select relevant features based on an ojbective criteria such as Akaike's Information Criterion (AIC), Bayesian Information Criterion (BIC) or Univariate Feature Selection. For gradient boosted trees, performance may be improved by hyperparameter tuning, such as selecting tree depth and the number of trees. In the case of k-means clustering, it is essential to have modeler intuition regarding the number of underlying groups that exist in the data, as given by k. "
   ]
  },
  {
   "cell_type": "markdown",
   "metadata": {},
   "source": [
    "## Part 2: Student Code Samples"
   ]
  },
  {
   "cell_type": "markdown",
   "metadata": {},
   "source": [
    "**Code**: Feel free to comment on style, library usage, or other improvements.  \n",
    "**Methodology**: Feel free to comment on the student's data setup, modeling methodology, and model evaluation.  \n",
    "** Conceptual Understanding**: Finally, feel free to add any suggestions or takeaways on how the student could continue to improve their understanding of these concepts."
   ]
  },
  {
   "cell_type": "code",
   "execution_count": null,
   "metadata": {},
   "outputs": [],
   "source": [
    "# Student sample 1\n",
    "#!/usr/bin/env python\n",
    "\n",
    "import pandas as pd\n",
    "import numpy as np\n",
    "from sklearn import LinearRegression # from sklearn.linear_model import LinearRegression\n",
    "from sklearn.cross_validation import cross_val_score\n",
    "\n",
    "# Load data\n",
    "d = pd.read_csv('../data/train.csv') # Is the data available online? \n",
    "                                    # Is there any way to make the data accessible so others can repeat your analysis?\n",
    "# Setup data for prediction\n",
    "x1 = data.SalaryNormalized # Have you considered splitting your data into training/testing sets? \n",
    "                          # If you predict on the same data used to fit the model, you increase the chance of over-fitting \n",
    "                         # ... and your model may not perform well in a true predictive (e.g. out-of-sample) application.\n",
    "                        # Also, it is convention to represent the dependent variable with the variable Y and independent variables with X.\n",
    "x2 = pd.get_dummies(data.ContractType) # Is ContractType the only predictor? Are there other useful predictors  of SalaryNormalized?\n",
    "\n",
    "# Setup model\n",
    "model = LinearRegression() # Specify any underlying assumption explicity, e.g. are you fitting an intercept term? \n",
    "                          # Is the data normalized prior to fitting?\n",
    "\n",
    "# Evaluate model\n",
    "from sklearn.cross_validation import cross_val_score  # already imported above?\n",
    "from sklearn.cross_validation import train_test_split # import statements at the top of the document, please \n",
    "scores = cross_val_score(model, x2, x1, cv=1, scoring='mean_absolute_error') # cv=1 implies 1-fold in the cross-validation. \n",
    "                                                                            # Is that enough? How about 10?\n",
    "print(scores.mean())\n",
    "\n",
    "# Please add an interpretation of your results. \n",
    "# How good is the model? \n",
    "# Does it have predictive skill out-of-sample? \n",
    "# What can you ascertain about the underlying relationship between your independent and dependent variables?"
   ]
  },
  {
   "cell_type": "code",
   "execution_count": null,
   "metadata": {},
   "outputs": [],
   "source": [
    "# Student sample 2\n",
    "#!/usr/bin/env python\n",
    "\n",
    "import pandas as pd\n",
    "import numpy as np\n",
    "from sklearn.linear_model import LinearRegression\n",
    "from sklearn.cross_validation import cross_val_score\n",
    "\n",
    "# Load data\n",
    "data = pd.read_csv('../data/train.csv') # Is the data open-source? How can others access it to reproduce your results?\n",
    "\n",
    "# Setup data for prediction\n",
    "y = data.SalaryNormalized\n",
    "X = pd.get_dummies(data.ContractType) # Train/Test sets? \n",
    "                                    # How do you plan to evaluate the predictive power of your model besides cross-validation?\n",
    "\n",
    "# Setup model\n",
    "model = LinearRegression() # Are there any underlying assumptions here? Please specify.\n",
    "                          # For example, do you expect a linear relationship between Salary and ContractType?\n",
    "                         # Are assumption of IID satisfied?\n",
    "                        # Can you include model diagnostic plots? \n",
    "                       # e.g. visually-inspect for normality of model residuals, heteroscadasticity, autocorrelation, etc...\n",
    "\n",
    "# Evaluate model\n",
    "scores = cross_val_score(model, X, y, cv=5, scoring='mean_absolute_error') # nice use of keyword argument specification!\n",
    "print(scores.mean()) # can you contextualize these results? Is this good? Bad? Ugly?"
   ]
  },
  {
   "cell_type": "code",
   "execution_count": null,
   "metadata": {
    "collapsed": true
   },
   "outputs": [],
   "source": []
  }
 ],
 "metadata": {
  "git": {
   "suppress_outputs": true
  },
  "kernelspec": {
   "display_name": "Python [default]",
   "language": "python",
   "name": "python3"
  },
  "language_info": {
   "codemirror_mode": {
    "name": "ipython",
    "version": 3
   },
   "file_extension": ".py",
   "mimetype": "text/x-python",
   "name": "python",
   "nbconvert_exporter": "python",
   "pygments_lexer": "ipython3",
   "version": "3.6.2"
  }
 },
 "nbformat": 4,
 "nbformat_minor": 1
}
